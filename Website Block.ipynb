{
 "cells": [
  {
   "cell_type": "markdown",
   "metadata": {},
   "source": [
    "We will creating a python script which will start when machine opens and keeps running in the background\n",
    "whose purpose is solely to block access to user defined website during certain hours,to help them focus on their work.\n",
    "There is a file named 'hosts' in which we can specify a website name and it will be blocked. \n",
    "We will use python code to add list of blocked websites to this file"
   ]
  },
  {
   "cell_type": "code",
   "execution_count": null,
   "metadata": {},
   "outputs": [],
   "source": [
    "#Teacher's Code\n",
    "import time\n",
    "from datetime import datetime as dt\n",
    "\n",
    "#hosts_temp=r\"D:\\Dropbox\\pp\\block_websites\\Demo\\hosts\"\n",
    "hosts_path=\"/etc/hosts\"\n",
    "redirect=\"127.0.0.1\"\n",
    "website_list=[\"www.facebook.com\",\"facebook.com\",\"dub119.mail.live.com\",\"www.dub119.mail.live.com\"]\n",
    "hosts_temp=\"C:\\Users\\Murtuz\\Desktop\\hosts_copy.txt\"\n",
    "while True:\n",
    "    if dt(dt.now().year,dt.now().month,dt.now().day,8) < dt.now() < dt(dt.now().year,dt.now().month,dt.now().day,16):\n",
    "        print(\"Working hours...\")\n",
    "        with open(hosts_temp,'r+') as file:\n",
    "            content=file.read()\n",
    "            for website in website_list:\n",
    "                if website in content:\n",
    "                    pass\n",
    "                else:\n",
    "                    file.write(redirect+\" \"+ website+\"\\n\")\n",
    "    else:\n",
    "        with open(hosts_path,'r+') as file:\n",
    "            content=file.readlines()\n",
    "            file.seek(0)\n",
    "            for line in content:\n",
    "                if not any(website in line for website in website_list):\n",
    "                    file.write(line)\n",
    "            file.truncate()\n",
    "        print(\"Fun hours...\")\n",
    "    time.sleep(5)\n"
   ]
  }
 ],
 "metadata": {
  "kernelspec": {
   "display_name": "Python 3",
   "language": "python",
   "name": "python3"
  },
  "language_info": {
   "codemirror_mode": {
    "name": "ipython",
    "version": 3
   },
   "file_extension": ".py",
   "mimetype": "text/x-python",
   "name": "python",
   "nbconvert_exporter": "python",
   "pygments_lexer": "ipython3",
   "version": "3.6.8"
  }
 },
 "nbformat": 4,
 "nbformat_minor": 2
}
